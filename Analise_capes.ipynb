version https://git-lfs.github.com/spec/v1
oid sha256:466f30cbf2836d9e795aa110b7eda6e9d2dac2c4407d5d6dcfeb0d3b5f5043fa
size 280077247
